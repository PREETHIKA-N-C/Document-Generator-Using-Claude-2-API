{
  "nbformat": 4,
  "nbformat_minor": 0,
  "metadata": {
    "colab": {
      "provenance": []
    },
    "kernelspec": {
      "name": "python3",
      "display_name": "Python 3"
    },
    "language_info": {
      "name": "python"
    }
  },
  "cells": [
    {
      "cell_type": "code",
      "execution_count": 1,
      "metadata": {
        "colab": {
          "base_uri": "https://localhost:8080/"
        },
        "id": "jJja0sKLLOQx",
        "outputId": "fdfb8b9c-35fc-4765-ef40-01ab98e59cf9"
      },
      "outputs": [
        {
          "output_type": "stream",
          "name": "stdout",
          "text": [
            "\u001b[?25l     \u001b[90m━━━━━━━━━━━━━━━━━━━━━━━━━━━━━━━━━━━━━━━━\u001b[0m \u001b[32m0.0/808.1 kB\u001b[0m \u001b[31m?\u001b[0m eta \u001b[36m-:--:--\u001b[0m\r\u001b[2K     \u001b[91m━━━━━━━━━━━\u001b[0m\u001b[91m╸\u001b[0m\u001b[90m━━━━━━━━━━━━━━━━━━━━━━━━━━━━\u001b[0m \u001b[32m235.5/808.1 kB\u001b[0m \u001b[31m6.8 MB/s\u001b[0m eta \u001b[36m0:00:01\u001b[0m\r\u001b[2K     \u001b[90m━━━━━━━━━━━━━━━━━━━━━━━━━━━━━━━━━━━━━━━━\u001b[0m \u001b[32m808.1/808.1 kB\u001b[0m \u001b[31m14.0 MB/s\u001b[0m eta \u001b[36m0:00:00\u001b[0m\n",
            "\u001b[2K     \u001b[90m━━━━━━━━━━━━━━━━━━━━━━━━━━━━━━━━━━━━━━━━\u001b[0m \u001b[32m75.0/75.0 kB\u001b[0m \u001b[31m9.9 MB/s\u001b[0m eta \u001b[36m0:00:00\u001b[0m\n",
            "\u001b[2K     \u001b[90m━━━━━━━━━━━━━━━━━━━━━━━━━━━━━━━━━━━━━━━━\u001b[0m \u001b[32m76.9/76.9 kB\u001b[0m \u001b[31m11.3 MB/s\u001b[0m eta \u001b[36m0:00:00\u001b[0m\n",
            "\u001b[2K     \u001b[90m━━━━━━━━━━━━━━━━━━━━━━━━━━━━━━━━━━━━━━━━\u001b[0m \u001b[32m58.3/58.3 kB\u001b[0m \u001b[31m6.9 MB/s\u001b[0m eta \u001b[36m0:00:00\u001b[0m\n",
            "\u001b[?25h"
          ]
        }
      ],
      "source": [
        "!pip -q install anthropic"
      ]
    },
    {
      "cell_type": "code",
      "source": [
        "import os\n",
        "os.environ[\"ANTHROPIC_API_KEY\"] = \"ANTHROPIC_API_KEY\""
      ],
      "metadata": {
        "id": "n07XOeTnPO3W"
      },
      "execution_count": 2,
      "outputs": []
    },
    {
      "cell_type": "code",
      "source": [
        "from anthropic import Anthropic, HUMAN_PROMPT, AI_PROMPT\n",
        "\n",
        "anthropic = Anthropic(\n",
        "    api_key= os.environ[\"ANTHROPIC_API_KEY\"],\n",
        ")\n",
        "\n",
        "completion = anthropic.completions.create(\n",
        "    model=\"claude-2\",\n",
        "    max_tokens_to_sample=300,\n",
        "    prompt=f\"{HUMAN_PROMPT} Generate solution design document template for business {AI_PROMPT}\",\n",
        ")\n",
        "print(completion.completion)"
      ],
      "metadata": {
        "colab": {
          "base_uri": "https://localhost:8080/"
        },
        "id": "haTRo0WFPgme",
        "outputId": "e1c33887-906e-45bf-d0b6-26e1da63eddf"
      },
      "execution_count": 3,
      "outputs": [
        {
          "output_type": "stream",
          "name": "stdout",
          "text": [
            " Here is an outline for a solution design document template that can be used for business projects:\n",
            "\n",
            "Solution Design Document\n",
            "\n",
            "1. Executive Summary\n",
            "- High-level overview of the solution and how it addresses the business requirements and goals\n",
            "\n",
            "2. Business Requirements\n",
            "- Detail the business needs, issues, or problems that the solution will address\n",
            "- List specific business requirements and goals that the solution must meet\n",
            "\n",
            "3. Proposed Solution  \n",
            "- Provide an overview of the proposed solution\n",
            "- Describe the major components and key features of the solution\n",
            "- Explain how the solution meets the business requirements\n",
            "\n",
            "4. Technical Specifications\n",
            "- Outline the technical details of the solution including:\n",
            "  - Architecture, frameworks, and tools that will be used\n",
            "  - High-level models depicting logic, processes, data structures/database schema\n",
            "  - APIs, integrations, and interfaces that will need to be built\n",
            "  - Infrastructure, hardware, software platforms and hosting requirements\n",
            "\n",
            "5. Solution Components\n",
            "- Provide more detailed explanations of each component of the solution including wireframes, process flows, mockups etc.\n",
            "\n",
            "6. Development Roadmap \n",
            "- Layout the development timeline and release phases\n",
            "- Include milestones, estimates, deliverables, and resource requirements \n",
            "\n",
            "7. Testing Strategy\n",
            "- Describe types of testing and test cases to validate solution functionality \n",
            "\n",
            "8. Training and Support\n",
            "- Outline training requirements and plan for supporting business users\n",
            "\n",
            "9.\n"
          ]
        }
      ]
    },
    {
      "cell_type": "code",
      "source": [
        "client = Anthropic()\n",
        "client.count_tokens('Write me a code to print hello world in python')"
      ],
      "metadata": {
        "colab": {
          "base_uri": "https://localhost:8080/"
        },
        "id": "Fy51wJsQQRB4",
        "outputId": "f061ccd9-1b84-4363-b8f1-78ab66881107"
      },
      "execution_count": 4,
      "outputs": [
        {
          "output_type": "execute_result",
          "data": {
            "text/plain": [
              "10"
            ]
          },
          "metadata": {},
          "execution_count": 4
        }
      ]
    },
    {
      "cell_type": "code",
      "source": [
        "!pip show anthropic"
      ],
      "metadata": {
        "colab": {
          "base_uri": "https://localhost:8080/"
        },
        "id": "U66KUTGbudx9",
        "outputId": "5714e69e-8873-4e58-952b-7376fb21d8a5"
      },
      "execution_count": 5,
      "outputs": [
        {
          "output_type": "stream",
          "name": "stdout",
          "text": [
            "Name: anthropic\n",
            "Version: 0.7.7\n",
            "Summary: The official Python library for the anthropic API\n",
            "Home-page: \n",
            "Author: \n",
            "Author-email: Anthropic <support@anthropic.com>\n",
            "License: \n",
            "Location: /usr/local/lib/python3.10/dist-packages\n",
            "Requires: anyio, distro, httpx, pydantic, sniffio, tokenizers, typing-extensions\n",
            "Required-by: \n"
          ]
        }
      ]
    },
    {
      "cell_type": "code",
      "source": [
        "import anthropic\n",
        "print(anthropic.__version__)"
      ],
      "metadata": {
        "colab": {
          "base_uri": "https://localhost:8080/"
        },
        "id": "qeui3Lu5ynOa",
        "outputId": "0df16ff9-21ef-4c95-dcf3-8b4309d879b8"
      },
      "execution_count": 6,
      "outputs": [
        {
          "output_type": "stream",
          "name": "stdout",
          "text": [
            "0.7.7\n"
          ]
        }
      ]
    },
    {
      "cell_type": "code",
      "source": [
        "# Initialize client\n",
        "claude = anthropic.Client(api_key=os.environ[\"ANTHROPIC_API_KEY\"])"
      ],
      "metadata": {
        "id": "7h376EY4tuii"
      },
      "execution_count": 7,
      "outputs": []
    }
  ]
}